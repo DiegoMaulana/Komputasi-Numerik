{
  "nbformat": 4,
  "nbformat_minor": 0,
  "metadata": {
    "colab": {
      "provenance": [],
      "include_colab_link": true
    },
    "kernelspec": {
      "name": "python3",
      "display_name": "Python 3"
    },
    "language_info": {
      "name": "python"
    }
  },
  "cells": [
    {
      "cell_type": "markdown",
      "metadata": {
        "id": "view-in-github",
        "colab_type": "text"
      },
      "source": [
        "<a href=\"https://colab.research.google.com/github/DiegoMaulana/Komputasi-Numerik/blob/main/bisection_(1).ipynb\" target=\"_parent\"><img src=\"https://colab.research.google.com/assets/colab-badge.svg\" alt=\"Open In Colab\"/></a>"
      ]
    },
    {
      "cell_type": "code",
      "execution_count": null,
      "metadata": {
        "id": "2JHVHadOtZcL"
      },
      "outputs": [],
      "source": [
        "import numpy as np\n"
      ]
    },
    {
      "cell_type": "markdown",
      "source": [
        "Penjelasan:\n",
        "\n",
        "import numpy as np → Mengimpor numpy untuk menggunakan fungsi np.sign(), yang membantu menentukan tanda dari suatu bilangan.\n",
        "Fungsi bisection(f, a, b, tol)\n",
        "f → Fungsi yang akan dicari akarnya.\n",
        "a, b → Interval awal pencarian akar.\n",
        "tol → Batas toleransi kesalahan yang diperbolehkan.\n",
        "Cek kesalahan:\n",
        "Jika f(a) dan f(b) memiliki tanda yang sama (np.sign(f(a)) == np.sign(f(b))), maka akar tidak ada dalam interval tersebut.\n",
        "Program akan menghentikan eksekusi dan memberikan pesan error.\n",
        "Proses utama metode bisection:\n",
        "Hitung titik tengah:\n",
        "𝑚\n",
        "=\n",
        "𝑎\n",
        "+\n",
        "𝑏\n",
        "2\n",
        "m=\n",
        "2\n",
        "a+b\n",
        "​\n",
        " .\n",
        "Jika\n",
        "∣\n",
        "𝑓\n",
        "(\n",
        "𝑚\n",
        ")\n",
        "∣\n",
        "<\n",
        "𝑡\n",
        "𝑜\n",
        "𝑙\n",
        "∣f(m)∣<tol, maka\n",
        "𝑚\n",
        "m dianggap sebagai akar dan dikembalikan sebagai hasil.\n",
        "Jika tanda\n",
        "𝑓\n",
        "(\n",
        "𝑎\n",
        ")\n",
        "f(a) sama dengan tanda\n",
        "𝑓\n",
        "(\n",
        "𝑚\n",
        ")\n",
        "f(m), maka akar ada di interval [m, b].\n",
        "Jika tanda\n",
        "𝑓\n",
        "(\n",
        "𝑏\n",
        ")\n",
        "f(b) sama dengan tanda\n",
        "𝑓\n",
        "(\n",
        "𝑚\n",
        ")\n",
        "f(m), maka akar ada di interval [a, m].\n",
        "Fungsi dipanggil secara rekursif sampai menemukan akar dengan ketelitian yang cukup."
      ],
      "metadata": {
        "id": "Dk2dds2ARQf_"
      }
    },
    {
      "cell_type": "code",
      "source": [
        "def bisection(f, a, b, tol):\n",
        "    if np.sign(f(a)) == np.sign(f(b)):\n",
        "        raise Exception(\"Error: f(a) dan f(b) memiliki tanda yang sama. Pilih interval lain!\")\n",
        "\n",
        "    m = (a + b) / 2\n",
        "\n",
        "    if np.abs(f(m)) < tol:\n",
        "        return m\n",
        "    elif np.sign(f(a)) == np.sign(f(m)):\n",
        "        return bisection(f, m, b, tol)\n",
        "    else:\n",
        "        return bisection(f, a, m, tol)"
      ],
      "metadata": {
        "id": "5_LhaSoZurtu"
      },
      "execution_count": 1,
      "outputs": []
    },
    {
      "cell_type": "markdown",
      "source": [
        "Penjelasan:\n",
        "\n",
        "Mendefinisikan fungsi f(x) = x² - 2\n",
        "Kita ingin mencari akar dari x² - 2 = 0, yang seharusnya adalah √2 ≈ 1.414.\n",
        "Memanggil metode bisection dua kali:\n",
        "bisection(f, 0, 2, 0.1) → Mencari akar dengan toleransi 0.1.\n",
        "bisection(f, 0, 2, 0.01) → Mencari akar dengan toleransi 0.01 (lebih presisi).\n",
        "Menampilkan hasil perhitungan akar (r1 dan r01)."
      ],
      "metadata": {
        "id": "ZmAT13o4RXXj"
      }
    },
    {
      "cell_type": "code",
      "source": [
        "f = lambda x: x**2 - 2\n",
        "\n",
        "r1 = bisection(f, 0, 2, 0.1)\n",
        "print(\"r1 =\", r1)\n",
        "\n",
        "r01 = bisection(f, 0, 2, 0.01)\n",
        "print(\"r01 =\", r01)"
      ],
      "metadata": {
        "id": "ncQT2IKYvNBk"
      },
      "execution_count": null,
      "outputs": []
    },
    {
      "cell_type": "markdown",
      "source": [
        "Penjelasan:\n",
        "\n",
        "Mengevaluasi f(r1) dan f(r01) untuk memastikan bahwa hasilnya mendekati nol.\n",
        "Jika metode bisection berhasil, maka nilai fungsi di akar harus kecil atau mendekati nol.\n",
        "Tujuan:\n",
        "Memverifikasi apakah akar yang ditemukan memang merupakan solusi dari x² - 2 = 0.\n"
      ],
      "metadata": {
        "id": "eoctNldqRb_8"
      }
    },
    {
      "cell_type": "code",
      "source": [
        "print(\"f(r1) =\", f(r1))\n",
        "print(\"f(r01) =\", f(r01))"
      ],
      "metadata": {
        "id": "t_VqHgyeQKwV"
      },
      "execution_count": null,
      "outputs": []
    }
  ]
}