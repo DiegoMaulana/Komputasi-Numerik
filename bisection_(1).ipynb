{
  "nbformat": 4,
  "nbformat_minor": 0,
  "metadata": {
    "colab": {
      "provenance": [],
      "include_colab_link": true
    },
    "kernelspec": {
      "name": "python3",
      "display_name": "Python 3"
    },
    "language_info": {
      "name": "python"
    }
  },
  "cells": [
    {
      "cell_type": "markdown",
      "metadata": {
        "id": "view-in-github",
        "colab_type": "text"
      },
      "source": [
        "<a href=\"https://colab.research.google.com/github/DiegoMaulana/Komputasi-Numerik/blob/main/bisection_(1).ipynb\" target=\"_parent\"><img src=\"https://colab.research.google.com/assets/colab-badge.svg\" alt=\"Open In Colab\"/></a>"
      ]
    },
    {
      "cell_type": "markdown",
      "source": [],
      "metadata": {
        "id": "v1VDdNW5C4ZZ"
      }
    },
    {
      "cell_type": "markdown",
      "source": [
        "import numpy as np adalah perintah yang digunakan untuk mengimpor pustaka (library) NumPy dan memberinya alias np. NumPy adalah pustaka Python yang sangat populer untuk melakukan operasi numerik, seperti perhitungan array, matriks, dan berbagai operasi matematis lainnya.\n",
        "\n",
        "Dengan menggunakan alias np, Anda dapat memanggil fungsi-fungsi dari pustaka NumPy dengan cara yang lebih ringkas. Misalnya, Anda bisa menggunakan np.array() untuk membuat array atau np.sign() untuk mendapatkan tanda dari suatu nilai."
      ],
      "metadata": {
        "id": "6faKGLmEC58N"
      }
    },
    {
      "cell_type": "code",
      "execution_count": null,
      "metadata": {
        "id": "2JHVHadOtZcL"
      },
      "outputs": [],
      "source": [
        "import numpy as np"
      ]
    },
    {
      "cell_type": "markdown",
      "source": [
        "Fungsi bisection\n",
        "Fungsi ini adalah implementasi dari metode bisection untuk mencari akar (root) dari suatu fungsi f(x) pada interval [a, b], dengan toleransi error tol. Metode ini berfungsi dengan cara membagi interval secara berulang sampai menemukan solusi yang cukup mendekati akar.\n",
        "1. Cek tanda nilai fungsi di titik a dan b\n",
        "if np.sign(f(a)) == np.sign(f(b)):\n",
        "    raise Exception(\"tidak bisa\")\n",
        "•\tFungsi ini pertama-tama memeriksa apakah tanda dari nilai fungsi f(x) di titik a dan b sama. Jika tanda nilai di kedua titik ini sama, maka tidak ada jaminan bahwa ada akar di interval tersebut (karena dalam metode bisection, kita membutuhkan bahwa fungsi memiliki tanda yang berbeda di kedua ujung interval).\n",
        "•\tJika tanda fungsi di kedua ujung tersebut sama, maka akan muncul exception yang menandakan bahwa metode bisection tidak dapat digunakan.\n",
        "2. Menghitung titik tengah interval\n",
        "m = (a + b) / 2\n",
        "•\tDi sini, kita menghitung titik tengah dari interval [a, b] yang disebut m. Titik tengah ini akan digunakan untuk membagi interval menjadi dua bagian lebih kecil.\n",
        "3. Cek apakah nilai fungsi di titik tengah sudah cukup dekat dengan nol\n",
        "if np.abs(f(m)) < tol:\n",
        "    return m\n",
        "•\tFungsi kemudian memeriksa apakah nilai fungsi f(m) di titik tengah sudah cukup dekat dengan nol (sesuai dengan toleransi tol). Jika iya, maka titik tengah m dianggap sebagai solusi akar dan akan dikembalikan.\n",
        "4. Pilih sub-interval yang baru berdasarkan tanda fungsi\n",
        "Jika nilai fungsi di titik tengah tidak cukup mendekati nol, maka kita perlu membagi interval lebih lanjut. Ini dilakukan berdasarkan tanda nilai fungsi di titik tengah dan ujung-ujung interval.\n",
        "Kasus pertama: f(a) dan f(m) memiliki tanda yang sama\n",
        "elif np.sign(f(a)) == np.sign(f(m)):\n",
        "    return bisection(f, m, b, tol)\n",
        "•\tJika tanda nilai fungsi di titik a dan m sama, maka akar pasti terletak di interval [m, b] (karena dalam metode bisection kita tahu akar terletak di antara dua titik dengan tanda yang berbeda). Oleh karena itu, kita melakukan pemanggilan rekursif pada sub-interval [m, b].\n",
        "Kasus kedua: f(b) dan f(m) memiliki tanda yang sama\n",
        "elif np.sign(f(b)) == np.sign(f(m)):\n",
        "    return bisection(f, a, m, tol)\n",
        "•\tJika tanda nilai fungsi di titik b dan m sama, maka akar pasti terletak di interval [a, m]. Oleh karena itu, kita melakukan pemanggilan rekursif pada sub-interval [a, m].\n",
        "Kesimpulan:\n",
        "•\tMetode bisection ini terus membagi interval menjadi dua bagian yang lebih kecil, memilih bagian yang memuat akar, dan mengulang proses sampai akar ditemukan dengan akurasi yang cukup berdasarkan toleransi tol.\n",
        "•\tFungsi ini menggunakan rekursi untuk terus membagi interval.\n"
      ],
      "metadata": {
        "id": "-yMb-4_SBseP"
      }
    },
    {
      "cell_type": "code",
      "source": [
        "def bisection(f, a, b, tol):\n",
        "\n",
        "    if np.sign(f(a)) == np.sign(f(b)):\n",
        "        raise Exception(\n",
        "         \"tidak bisa\")\n",
        "\n",
        "    m = (a + b)/2\n",
        "\n",
        "    if np.abs(f(m)) < tol:\n",
        "        return m\n",
        "    elif np.sign(f(a)) == np.sign(f(m)):\n",
        "        return bisection(f, m, b, tol)\n",
        "    elif np.sign(f(b)) == np.sign(f(m)):\n",
        "        return bisection(f, a, m, tol)"
      ],
      "metadata": {
        "id": "5_LhaSoZurtu"
      },
      "execution_count": null,
      "outputs": []
    },
    {
      "cell_type": "markdown",
      "source": [
        "1. Mendefinisikan fungsi f(x)\n",
        "f = lambda x: x**2 - 2\n",
        "•\tFungsi f(x) yang didefinisikan di sini adalah f(x) = x^2 - 2. Fungsi ini memiliki akar di x = √2 (sekitar 1.414), yang merupakan solusi dari persamaan x^2 - 2 = 0.\n",
        "2. Pemanggilan metode bisection untuk menemukan akar dengan toleransi 0.1\n",
        "r1 = my_bisection(f, 0, 2, 0.1)\n",
        "print(\"r1 =\", r1)\n",
        "•\tmy_bisection(f, 0, 2, 0.1) memanggil fungsi my_bisection (yang mungkin merupakan implementasi Anda dari metode bisection) untuk mencari akar dari fungsi f(x) di interval [0, 2] dengan toleransi 0.1.\n",
        "•\tHasil dari pemanggilan ini disimpan dalam variabel r1, yang merupakan perkiraan akar dari fungsi f(x) dalam interval tersebut dengan toleransi 0.1.\n",
        "•\tHasilnya dicetak ke layar dengan print(\"r1 =\", r1).\n",
        "3. Pemanggilan metode bisection untuk menemukan akar dengan toleransi 0.01\n",
        "r01 = my_bisection(f, 0, 2, 0.01)\n",
        "print(\"r01 =\", r01)\n",
        "•\tPemanggilan yang serupa dilakukan dengan toleransi yang lebih kecil, yaitu 0.01. Di sini, my_bisection(f, 0, 2, 0.01) akan mencari akar yang lebih akurat dibandingkan pemanggilan sebelumnya.\n",
        "•\tHasilnya disimpan dalam variabel r01 dan dicetak ke layar dengan print(\"r01 =\", r01).\n",
        "4. Evaluasi nilai fungsi pada hasil r1\n",
        "print(\"f(r1) =\", f(r1))\n",
        "•\tDi sini, kita mengevaluasi nilai fungsi f(x) di titik r1 (hasil perkiraan akar dengan toleransi 0.1). Hal ini untuk memeriksa seberapa dekat nilai fungsi pada r1 dengan nol. Jika hasilnya mendekati nol, berarti r1 adalah perkiraan akar yang baik.\n",
        "5. Evaluasi nilai fungsi pada hasil r01\n",
        "print(\"f(r01) =\", f(r01))\n",
        "•\tSama seperti sebelumnya, nilai fungsi f(x) dievaluasi di titik r01 (perkiraan akar dengan toleransi 0.01). Kita ingin memastikan bahwa hasilnya semakin mendekati nol karena toleransi yang lebih ketat.\n",
        "Apa yang diharapkan dari kode ini?\n",
        "•\tDengan metode bisection, kita berharap bahwa semakin kecil toleransi yang diberikan, semakin akurat hasil perkiraan akar yang ditemukan.\n",
        "•\tr1 seharusnya lebih jauh dari akar yang sebenarnya dibandingkan dengan r01, yang diharapkan lebih mendekati akar sebenarnya √2.\n",
        "•\tEvaluasi f(r1) dan f(r01) memberikan indikasi seberapa baik masing-masing nilai tersebut sebagai solusi akar. Idealnya, f(r1) dan f(r01) harus semakin mendekati 0 saat toleransi semakin kecil.\n",
        "Kemungkinan Hasil Output\n",
        "•\tMisalnya, outputnya bisa seperti ini (tergantung implementasi my_bisection):\n",
        "r1 = 1.4140625\n",
        "r01 = 1.4142135625\n",
        "f(r1) = -0.0009765625\n",
        "f(r01) = -3.725290298461914e-06\n",
        "Poin Penting:\n",
        "•\tmy_bisection adalah metode yang digunakan untuk mencari akar (root) dari fungsi f(x) pada interval [0, 2].\n",
        "•\tSemakin kecil toleransi (tol), semakin akurat akar yang ditemukan.\n",
        "•\tFungsi f(r1) dan f(r01) mendekati 0 menunjukkan bahwa r1 dan r01 semakin mendekati akar sebenarnya.\n"
      ],
      "metadata": {
        "id": "RcvcmBz7CcFw"
      }
    },
    {
      "cell_type": "code",
      "source": [
        "f = lambda x: x**2 - 2\n",
        "\n",
        "r1 = my_bisection(f, 0, 2, 0.1)\n",
        "print(\"r1 =\", r1)\n",
        "r01 = my_bisection(f, 0, 2, 0.01)\n",
        "print(\"r01 =\", r01)\n",
        "\n",
        "print(\"f(r1) =\", f(r1))\n",
        "print(\"f(r01) =\", f(r01))"
      ],
      "metadata": {
        "id": "ncQT2IKYvNBk"
      },
      "execution_count": null,
      "outputs": []
    }
  ]
}