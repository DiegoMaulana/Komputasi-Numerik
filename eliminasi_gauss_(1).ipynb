{
  "nbformat": 4,
  "nbformat_minor": 0,
  "metadata": {
    "colab": {
      "provenance": [],
      "include_colab_link": true
    },
    "kernelspec": {
      "name": "python3",
      "display_name": "Python 3"
    },
    "language_info": {
      "name": "python"
    }
  },
  "cells": [
    {
      "cell_type": "markdown",
      "metadata": {
        "id": "view-in-github",
        "colab_type": "text"
      },
      "source": [
        "<a href=\"https://colab.research.google.com/github/DiegoMaulana/Komputasi-Numerik/blob/main/eliminasi_gauss_(1).ipynb\" target=\"_parent\"><img src=\"https://colab.research.google.com/assets/colab-badge.svg\" alt=\"Open In Colab\"/></a>"
      ]
    },
    {
      "cell_type": "markdown",
      "source": [],
      "metadata": {
        "id": "vaCqESkYOwCh"
      }
    },
    {
      "cell_type": "markdown",
      "source": [
        "Penjelasan:\n",
        "\n",
        "Cell ini mendefinisikan matriks augmented dari sistem persamaan linear (SPL).\n",
        "SPL adalah matriks dengan 3 baris dan 4 kolom, yang mewakili tiga persamaan linear.\n",
        "Setiap baris dari SPL merepresentasikan satu persamaan dalam sistem linear.\n",
        "Hasilnya ditampilkan dalam bentuk matriks untuk melihat kondisi awal SPL sebelum eliminasi.\n"
      ],
      "metadata": {
        "id": "4DjmvigOOxvV"
      }
    },
    {
      "cell_type": "code",
      "execution_count": 1,
      "metadata": {
        "colab": {
          "base_uri": "https://localhost:8080/"
        },
        "id": "C3aJpOzwRswY",
        "outputId": "d9b37d50-1950-4016-fc98-c8a7374e8030"
      },
      "outputs": [
        {
          "output_type": "stream",
          "name": "stdout",
          "text": [
            "Sistem Persamaan Linear (SPL) awal:\n",
            "[2, 3, -1, 5]\n",
            "[4, 4, -3, 3]\n",
            "[-2, 3, -1, 1]\n"
          ]
        }
      ],
      "source": [
        "SPL = [[2, 3, -1, 5],\n",
        "       [4, 4, -3, 3],\n",
        "       [-2, 3, -1, 1]]\n",
        "\n",
        "# Cetak matriks awal\n",
        "print(\"Sistem Persamaan Linear (SPL) awal:\")\n",
        "for row in SPL:\n",
        "    print(row)"
      ]
    },
    {
      "cell_type": "markdown",
      "source": [
        "Penjelasan:\n",
        "\n",
        "Eliminasi Baris Kedua\n",
        "Mengurangi 2 kali baris pertama dari baris kedua, sehingga elemen pertama di baris kedua menjadi nol.\n",
        "Eliminasi Baris Ketiga\n",
        "Mengurangi -1 kali baris pertama dari baris ketiga (efektifnya, menambah baris pertama ke baris ketiga).\n",
        "Tujuan eliminasi:\n",
        "Mengubah elemen pertama dari baris kedua dan ketiga menjadi nol agar lebih mudah menyelesaikan SPL dengan metode eliminasi Gauss.\n",
        "Output:\n",
        "Menampilkan matriks setelah eliminasi baris pertama."
      ],
      "metadata": {
        "id": "-GTtB1hUO4rX"
      }
    },
    {
      "cell_type": "code",
      "source": [
        "for i in range(4):\n",
        "    SPL[1][i] -= 2 * SPL[0][i]\n",
        "\n",
        "# Eliminasi baris ketiga dengan mengurangi -1 kali baris pertama\n",
        "for i in range(4):\n",
        "    SPL[2][i] -= (-1) * SPL[0][i]\n",
        "\n",
        "# Cetak hasil setelah eliminasi pertama\n",
        "print(\"SPL setelah eliminasi baris pertama:\")\n",
        "for row in SPL:\n",
        "    print(row)"
      ],
      "metadata": {
        "colab": {
          "base_uri": "https://localhost:8080/"
        },
        "id": "js9lGSow2LIs",
        "outputId": "eabbf1fd-9b9a-4e78-a228-fc1d3d6f8a8e"
      },
      "execution_count": 2,
      "outputs": [
        {
          "output_type": "stream",
          "name": "stdout",
          "text": [
            "SPL setelah eliminasi baris pertama:\n",
            "[2, 3, -1, 5]\n",
            "[0, -2, -1, -7]\n",
            "[0, 6, -2, 6]\n"
          ]
        }
      ]
    },
    {
      "cell_type": "markdown",
      "source": [
        "Penjelasan:\n",
        "\n",
        "Eliminasi Baris Ketiga terhadap Baris Kedua\n",
        "Mengurangi -3 kali elemen kedua dari baris kedua dari elemen kedua hingga keempat di baris ketiga.\n",
        "Tujuan:\n",
        "Membuat elemen SPL[2][1] menjadi nol, sehingga hanya tersisa satu variabel dalam baris ketiga.\n",
        "Output:\n",
        "Menampilkan matriks setelah eliminasi baris kedua.\n",
        "Menampilkan nilai SPL[1][1] untuk memastikan hasil eliminasi benar."
      ],
      "metadata": {
        "id": "Y73KFGg6O8Or"
      }
    },
    {
      "cell_type": "code",
      "source": [
        "\n",
        "for i in range(1, 4):  # Mulai dari indeks 1 agar sesuai dengan eliminasi\n",
        "    SPL[2][i] -= (-3) * SPL[1][i]\n",
        "\n",
        "# Cetak hasil akhir setelah eliminasi\n",
        "print(\"SPL setelah eliminasi baris kedua:\")\n",
        "for row in SPL:\n",
        "    print(row)\n",
        "\n",
        "# Menampilkan elemen SPL[1][1] sebagai pengecekan\n",
        "print(\"Nilai SPL[1][1]:\", SPL[1][1])"
      ],
      "metadata": {
        "colab": {
          "base_uri": "https://localhost:8080/"
        },
        "id": "ciwrHKDW745H",
        "outputId": "1f12af21-10d8-4411-e299-ac6378265ecb"
      },
      "execution_count": 3,
      "outputs": [
        {
          "output_type": "stream",
          "name": "stdout",
          "text": [
            "SPL setelah eliminasi baris kedua:\n",
            "[2, 3, -1, 5]\n",
            "[0, -2, -1, -7]\n",
            "[0, 0, -5, -15]\n",
            "Nilai SPL[1][1]: -2\n"
          ]
        }
      ]
    }
  ]
}